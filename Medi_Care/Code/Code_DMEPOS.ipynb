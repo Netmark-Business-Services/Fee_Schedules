{
 "cells": [
  {
   "cell_type": "code",
   "execution_count": 1,
   "id": "1139c782",
   "metadata": {},
   "outputs": [
    {
     "name": "stdout",
     "output_type": "stream",
     "text": [
      "File found and loaded successfully: 'DMEPOS_OCT.xlsx'\n"
     ]
    }
   ],
   "source": [
    "import zipfile\n",
    "import pandas as pd\n",
    "import re\n",
    "from datetime import datetime\n",
    "import os\n",
    "\n",
    "zip_file_name = 'dme24d.zip'\n",
    "zip_file_path = f\"../Input_Files/{zip_file_name}\"\n",
    "\n",
    "# Flag to check if the file is found\n",
    "file_found = False\n",
    "\n",
    "# Open the ZIP file\n",
    "with zipfile.ZipFile(zip_file_path, 'r') as zip_ref:\n",
    "    for file_name in zip_ref.namelist():\n",
    "        # Check if the file name contains 'DMEPOS' and .xlsx extension\n",
    "        if 'DMEPOS' in file_name and file_name.endswith('.xlsx'):\n",
    "            with zip_ref.open(file_name) as file:\n",
    "                df_dmepos = pd.read_excel(file,skiprows=6,usecols=[0, 1, 2, 13])\n",
    "                file_found = True\n",
    "                break\n",
    "\n",
    "# Check if the file was found\n",
    "if file_found:\n",
    "    print(f\"File found and loaded successfully: '{file_name}'\")\n",
    "else:\n",
    "    print(\"No file containing 'DMEPOS' with .xlsx extension was found in the ZIP archive.\")"
   ]
  },
  {
   "cell_type": "code",
   "execution_count": 2,
   "id": "2c0e2931",
   "metadata": {},
   "outputs": [
    {
     "name": "stdout",
     "output_type": "stream",
     "text": [
      "AS_OF_DATE for the File is : '10/1/24'\n"
     ]
    }
   ],
   "source": [
    "# Create AS_OF_DATE from zip file name\n",
    "\n",
    "date_match = re.search(r'(\\d{2})([a-d])', zip_file_name)\n",
    "\n",
    "if date_match:\n",
    "    year, letter = date_match.groups()\n",
    "    month_assignments = {'A': 1, 'B': 4, 'C': 7, 'D': 10, 'a': 1, 'b': 4, 'c': 7, 'd': 10}\n",
    "    month = month_assignments[letter]\n",
    "    as_date = f'{month}/1/{year}'\n",
    "else:\n",
    "    as_date = None\n",
    "    \n",
    "print(f\"AS_OF_DATE for the File is : '{as_date}'\")"
   ]
  },
  {
   "cell_type": "code",
   "execution_count": 3,
   "id": "b35ed948-9059-4de2-98f4-66aa857a41d9",
   "metadata": {},
   "outputs": [
    {
     "name": "stdout",
     "output_type": "stream",
     "text": [
      "10/1/24\n"
     ]
    }
   ],
   "source": [
    "print(as_date)"
   ]
  },
  {
   "cell_type": "code",
   "execution_count": 4,
   "id": "4f8e024c",
   "metadata": {},
   "outputs": [],
   "source": [
    "# Creating an empty DataFrame with columns\n",
    "columns = [\"SVC_CD\", \"MODIFIER_1\", \"MODIFIER_2\", \"MODIFIER_3\", \"MODIFIER_4\", \"FEE\", \"AS_OF_DATE\", \"AGE_UNIT\", \"FROM_AGE\", \"THROUGH_AGE\", \"PLACE_OF_SERVICE_CODE\"]\n",
    "df_dmepos_new = pd.DataFrame(columns=columns)\n",
    "\n",
    "# Mapping the new DataFrame\n",
    "df_dmepos_new[\"SVC_CD\"] = df_dmepos[\"HCPCS\"]\n",
    "df_dmepos_new[\"MODIFIER_1\"] = df_dmepos[\"Mod\"]\n",
    "df_dmepos_new[\"MODIFIER_2\"] = df_dmepos[\"Mod2\"]\n",
    "df_dmepos_new[\"FEE\"] = df_dmepos[\"CA (NR)\"]\n",
    "\n",
    "# Additional columns in the new DataFrame \n",
    "df_dmepos_new[\"MODIFIER_3\"] = \"\"\n",
    "df_dmepos_new[\"MODIFIER_4\"] = \"\"\n",
    "df_dmepos_new[\"AS_OF_DATE\"] =  as_date\n",
    "df_dmepos_new[\"AGE_UNIT\"] = \"\"\n",
    "df_dmepos_new[\"FROM_AGE\"] = \"\"\n",
    "df_dmepos_new[\"THROUGH_AGE\"] = \"\"\n",
    "df_dmepos_new[\"PLACE_OF_SERVICE_CODE\"] = \"\""
   ]
  },
  {
   "cell_type": "code",
   "execution_count": 5,
   "id": "54f544da",
   "metadata": {},
   "outputs": [],
   "source": [
    "# Ensure the directory exists\n",
    "output_directory = f'../Output_Files/DME'\n",
    "if not os.path.exists(output_directory):\n",
    "    os.makedirs(output_directory)\n",
    "\n",
    "as_date_cleaned = as_date.replace('/', '-')\n",
    "# Save the DataFrame to an Excel file\n",
    "# df_dmepos_new.to_excel(f'{output_directory}/MCare_DME_{as_date_cleaned}.xlsx', index=False)\n",
    "df_dmepos_new.to_csv(f'{output_directory}/MCare_DME_{as_date_cleaned}.txt', sep='|', index=False)"
   ]
  },
  {
   "cell_type": "code",
   "execution_count": 6,
   "id": "2068ff7a",
   "metadata": {},
   "outputs": [
    {
     "data": {
      "text/html": [
       "<div>\n",
       "<style scoped>\n",
       "    .dataframe tbody tr th:only-of-type {\n",
       "        vertical-align: middle;\n",
       "    }\n",
       "\n",
       "    .dataframe tbody tr th {\n",
       "        vertical-align: top;\n",
       "    }\n",
       "\n",
       "    .dataframe thead th {\n",
       "        text-align: right;\n",
       "    }\n",
       "</style>\n",
       "<table border=\"1\" class=\"dataframe\">\n",
       "  <thead>\n",
       "    <tr style=\"text-align: right;\">\n",
       "      <th></th>\n",
       "      <th>SVC_CD</th>\n",
       "      <th>MODIFIER_1</th>\n",
       "      <th>MODIFIER_2</th>\n",
       "      <th>MODIFIER_3</th>\n",
       "      <th>MODIFIER_4</th>\n",
       "      <th>FEE</th>\n",
       "      <th>AS_OF_DATE</th>\n",
       "      <th>AGE_UNIT</th>\n",
       "      <th>FROM_AGE</th>\n",
       "      <th>THROUGH_AGE</th>\n",
       "      <th>PLACE_OF_SERVICE_CODE</th>\n",
       "    </tr>\n",
       "  </thead>\n",
       "  <tbody>\n",
       "    <tr>\n",
       "      <th>0</th>\n",
       "      <td>A4216</td>\n",
       "      <td>NaN</td>\n",
       "      <td>NaN</td>\n",
       "      <td></td>\n",
       "      <td></td>\n",
       "      <td>0.61</td>\n",
       "      <td>10/1/24</td>\n",
       "      <td></td>\n",
       "      <td></td>\n",
       "      <td></td>\n",
       "      <td></td>\n",
       "    </tr>\n",
       "    <tr>\n",
       "      <th>1</th>\n",
       "      <td>A4217</td>\n",
       "      <td>NaN</td>\n",
       "      <td>NaN</td>\n",
       "      <td></td>\n",
       "      <td></td>\n",
       "      <td>3.64</td>\n",
       "      <td>10/1/24</td>\n",
       "      <td></td>\n",
       "      <td></td>\n",
       "      <td></td>\n",
       "      <td></td>\n",
       "    </tr>\n",
       "    <tr>\n",
       "      <th>2</th>\n",
       "      <td>A4217</td>\n",
       "      <td>AU</td>\n",
       "      <td>NaN</td>\n",
       "      <td></td>\n",
       "      <td></td>\n",
       "      <td>3.64</td>\n",
       "      <td>10/1/24</td>\n",
       "      <td></td>\n",
       "      <td></td>\n",
       "      <td></td>\n",
       "      <td></td>\n",
       "    </tr>\n",
       "    <tr>\n",
       "      <th>3</th>\n",
       "      <td>A4221</td>\n",
       "      <td>NaN</td>\n",
       "      <td>NaN</td>\n",
       "      <td></td>\n",
       "      <td></td>\n",
       "      <td>24.46</td>\n",
       "      <td>10/1/24</td>\n",
       "      <td></td>\n",
       "      <td></td>\n",
       "      <td></td>\n",
       "      <td></td>\n",
       "    </tr>\n",
       "    <tr>\n",
       "      <th>4</th>\n",
       "      <td>A4222</td>\n",
       "      <td>NaN</td>\n",
       "      <td>NaN</td>\n",
       "      <td></td>\n",
       "      <td></td>\n",
       "      <td>46.39</td>\n",
       "      <td>10/1/24</td>\n",
       "      <td></td>\n",
       "      <td></td>\n",
       "      <td></td>\n",
       "      <td></td>\n",
       "    </tr>\n",
       "  </tbody>\n",
       "</table>\n",
       "</div>"
      ],
      "text/plain": [
       "  SVC_CD MODIFIER_1 MODIFIER_2 MODIFIER_3 MODIFIER_4    FEE AS_OF_DATE  \\\n",
       "0  A4216        NaN        NaN                         0.61    10/1/24   \n",
       "1  A4217        NaN        NaN                         3.64    10/1/24   \n",
       "2  A4217         AU        NaN                         3.64    10/1/24   \n",
       "3  A4221        NaN        NaN                        24.46    10/1/24   \n",
       "4  A4222        NaN        NaN                        46.39    10/1/24   \n",
       "\n",
       "  AGE_UNIT FROM_AGE THROUGH_AGE PLACE_OF_SERVICE_CODE  \n",
       "0                                                      \n",
       "1                                                      \n",
       "2                                                      \n",
       "3                                                      \n",
       "4                                                      "
      ]
     },
     "execution_count": 6,
     "metadata": {},
     "output_type": "execute_result"
    }
   ],
   "source": [
    "df_dmepos_new.head()"
   ]
  },
  {
   "cell_type": "code",
   "execution_count": null,
   "id": "3f61b593-07a6-43c5-beec-9b50edd5dbb8",
   "metadata": {},
   "outputs": [],
   "source": []
  }
 ],
 "metadata": {
  "kernelspec": {
   "display_name": "Python 3 (ipykernel)",
   "language": "python",
   "name": "python3"
  },
  "language_info": {
   "codemirror_mode": {
    "name": "ipython",
    "version": 3
   },
   "file_extension": ".py",
   "mimetype": "text/x-python",
   "name": "python",
   "nbconvert_exporter": "python",
   "pygments_lexer": "ipython3",
   "version": "3.11.7"
  }
 },
 "nbformat": 4,
 "nbformat_minor": 5
}
