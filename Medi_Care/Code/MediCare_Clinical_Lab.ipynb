{
 "cells": [
  {
   "cell_type": "code",
   "execution_count": 1,
   "id": "85ad038c",
   "metadata": {},
   "outputs": [
    {
     "name": "stdout",
     "output_type": "stream",
     "text": [
      "success\n"
     ]
    }
   ],
   "source": [
    "# Import necessary libraries\n",
    "import json\n",
    "import pandas as pd\n",
    "import zipfile\n",
    "import re\n",
    "\n",
    "with open('config.json') as config_file:\n",
    "    config = json.load(config_file)\n",
    "\n",
    "# Extract values from the configuration\n",
    "input_zip_path = config['clfs_zip_path']\n",
    "excel_file_within_zip = config['clfs_excel_file']\n",
    "output_path_template = config['clfs_output_path_template']\n",
    "rate_column_prefix = config['rate_column_prefix']\n",
    "\n",
    "\n",
    "# Open the ZIP file in read mode\n",
    "with zipfile.ZipFile(input_zip_path, 'r') as z:\n",
    "    # Open the specific Excel file within the ZIP file\n",
    "    with z.open(excel_file_within_zip) as f:\n",
    "        # Read the Excel file into a pandas DataFrame, skipping the first 4 rows\n",
    "        df = pd.read_excel(f, skiprows=4)\n",
    "\n",
    "# Use a regular expression to search for the pattern 'YYYY QxVx' in the file path\n",
    "extracted_pattern = re.search(r'(\\d{4} Q\\dV\\d)', excel_file_within_zip).group(0)\n",
    "\n",
    "#Columns starting with 'RATE'\n",
    "rate_columns = [col for col in df.columns if col.startswith(rate_column_prefix)]\n",
    "\n",
    "# Select the required columns including the first 'RATE' column\n",
    "df_selected = df[['HCPCS', 'EFF_DATE', rate_columns[0]]]\n",
    "\n",
    "#output path for the selected columns in the dataframe\n",
    "output_path = output_path_template.format(pattern=extracted_pattern)\n",
    "\n",
    "# Export the DataFrame to an Excel workbook\n",
    "df_selected.to_csv(output_path, index=False, sep='\\t')\n",
    "\n",
    "print(\"success\")"
   ]
  },
  {
   "cell_type": "code",
   "execution_count": null,
   "id": "c266bbae-4065-43d8-9ff1-2cfafd4a3603",
   "metadata": {},
   "outputs": [],
   "source": []
  }
 ],
 "metadata": {
  "kernelspec": {
   "display_name": "Python 3 (ipykernel)",
   "language": "python",
   "name": "python3"
  },
  "language_info": {
   "codemirror_mode": {
    "name": "ipython",
    "version": 3
   },
   "file_extension": ".py",
   "mimetype": "text/x-python",
   "name": "python",
   "nbconvert_exporter": "python",
   "pygments_lexer": "ipython3",
   "version": "3.11.7"
  }
 },
 "nbformat": 4,
 "nbformat_minor": 5
}
