{
 "cells": [
  {
   "cell_type": "code",
   "execution_count": 1,
   "id": "85ad038c",
   "metadata": {},
   "outputs": [
    {
     "ename": "KeyError",
     "evalue": "\"There is no item named 'CLFS 2024 Q3V1.xlsx' in the archive\"",
     "output_type": "error",
     "traceback": [
      "\u001b[1;31m---------------------------------------------------------------------------\u001b[0m",
      "\u001b[1;31mKeyError\u001b[0m                                  Traceback (most recent call last)",
      "Cell \u001b[1;32mIn[1], line 20\u001b[0m\n\u001b[0;32m     17\u001b[0m \u001b[38;5;66;03m# Open the ZIP file in read mode\u001b[39;00m\n\u001b[0;32m     18\u001b[0m \u001b[38;5;28;01mwith\u001b[39;00m zipfile\u001b[38;5;241m.\u001b[39mZipFile(input_zip_path, \u001b[38;5;124m'\u001b[39m\u001b[38;5;124mr\u001b[39m\u001b[38;5;124m'\u001b[39m) \u001b[38;5;28;01mas\u001b[39;00m z:\n\u001b[0;32m     19\u001b[0m     \u001b[38;5;66;03m# Open the specific Excel file within the ZIP file\u001b[39;00m\n\u001b[1;32m---> 20\u001b[0m     \u001b[38;5;28;01mwith\u001b[39;00m z\u001b[38;5;241m.\u001b[39mopen(excel_file_within_zip) \u001b[38;5;28;01mas\u001b[39;00m f:\n\u001b[0;32m     21\u001b[0m         \u001b[38;5;66;03m# Read the Excel file into a pandas DataFrame, skipping the first 4 rows\u001b[39;00m\n\u001b[0;32m     22\u001b[0m         df \u001b[38;5;241m=\u001b[39m pd\u001b[38;5;241m.\u001b[39mread_excel(f, skiprows\u001b[38;5;241m=\u001b[39m\u001b[38;5;241m4\u001b[39m)\n\u001b[0;32m     24\u001b[0m \u001b[38;5;66;03m# Use a regular expression to search for the pattern 'YYYY QxVx' in the file path\u001b[39;00m\n",
      "File \u001b[1;32m~\\AppData\\Local\\anaconda3\\Lib\\zipfile.py:1547\u001b[0m, in \u001b[0;36mZipFile.open\u001b[1;34m(self, name, mode, pwd, force_zip64)\u001b[0m\n\u001b[0;32m   1544\u001b[0m     zinfo\u001b[38;5;241m.\u001b[39m_compresslevel \u001b[38;5;241m=\u001b[39m \u001b[38;5;28mself\u001b[39m\u001b[38;5;241m.\u001b[39mcompresslevel\n\u001b[0;32m   1545\u001b[0m \u001b[38;5;28;01melse\u001b[39;00m:\n\u001b[0;32m   1546\u001b[0m     \u001b[38;5;66;03m# Get info object for name\u001b[39;00m\n\u001b[1;32m-> 1547\u001b[0m     zinfo \u001b[38;5;241m=\u001b[39m \u001b[38;5;28mself\u001b[39m\u001b[38;5;241m.\u001b[39mgetinfo(name)\n\u001b[0;32m   1549\u001b[0m \u001b[38;5;28;01mif\u001b[39;00m mode \u001b[38;5;241m==\u001b[39m \u001b[38;5;124m'\u001b[39m\u001b[38;5;124mw\u001b[39m\u001b[38;5;124m'\u001b[39m:\n\u001b[0;32m   1550\u001b[0m     \u001b[38;5;28;01mreturn\u001b[39;00m \u001b[38;5;28mself\u001b[39m\u001b[38;5;241m.\u001b[39m_open_to_write(zinfo, force_zip64\u001b[38;5;241m=\u001b[39mforce_zip64)\n",
      "File \u001b[1;32m~\\AppData\\Local\\anaconda3\\Lib\\zipfile.py:1476\u001b[0m, in \u001b[0;36mZipFile.getinfo\u001b[1;34m(self, name)\u001b[0m\n\u001b[0;32m   1474\u001b[0m info \u001b[38;5;241m=\u001b[39m \u001b[38;5;28mself\u001b[39m\u001b[38;5;241m.\u001b[39mNameToInfo\u001b[38;5;241m.\u001b[39mget(name)\n\u001b[0;32m   1475\u001b[0m \u001b[38;5;28;01mif\u001b[39;00m info \u001b[38;5;129;01mis\u001b[39;00m \u001b[38;5;28;01mNone\u001b[39;00m:\n\u001b[1;32m-> 1476\u001b[0m     \u001b[38;5;28;01mraise\u001b[39;00m \u001b[38;5;167;01mKeyError\u001b[39;00m(\n\u001b[0;32m   1477\u001b[0m         \u001b[38;5;124m'\u001b[39m\u001b[38;5;124mThere is no item named \u001b[39m\u001b[38;5;132;01m%r\u001b[39;00m\u001b[38;5;124m in the archive\u001b[39m\u001b[38;5;124m'\u001b[39m \u001b[38;5;241m%\u001b[39m name)\n\u001b[0;32m   1479\u001b[0m \u001b[38;5;28;01mreturn\u001b[39;00m info\n",
      "\u001b[1;31mKeyError\u001b[0m: \"There is no item named 'CLFS 2024 Q3V1.xlsx' in the archive\""
     ]
    }
   ],
   "source": [
    "# Import necessary libraries\n",
    "import json\n",
    "import pandas as pd\n",
    "import zipfile\n",
    "import re\n",
    "\n",
    "with open('config.json') as config_file:\n",
    "    config = json.load(config_file)\n",
    "\n",
    "# Extract values from the configuration\n",
    "input_zip_path = config['clfs_zip_path']\n",
    "excel_file_within_zip = config['clfs_excel_file']\n",
    "output_path_template = config['clfs_output_path_template']\n",
    "rate_column_prefix = config['rate_column_prefix']\n",
    "\n",
    "\n",
    "# Open the ZIP file in read mode\n",
    "with zipfile.ZipFile(input_zip_path, 'r') as z:\n",
    "    # Open the specific Excel file within the ZIP file\n",
    "    with z.open(excel_file_within_zip) as f:\n",
    "        # Read the Excel file into a pandas DataFrame, skipping the first 4 rows\n",
    "        df = pd.read_excel(f, skiprows=4)\n",
    "\n",
    "# Use a regular expression to search for the pattern 'YYYY QxVx' in the file path\n",
    "extracted_pattern = re.search(r'(\\d{4} Q\\dV\\d)', excel_file_within_zip).group(0)\n",
    "\n",
    "#Columns starting with 'RATE'\n",
    "rate_columns = [col for col in df.columns if col.startswith(rate_column_prefix)]\n",
    "\n",
    "# Select the required columns including the first 'RATE' column\n",
    "df_selected = df[['HCPCS', 'EFF_DATE', rate_columns[0]]]\n",
    "\n",
    "#output path for the selected columns in the dataframe\n",
    "output_path = output_path_template.format(pattern=extracted_pattern)\n",
    "\n",
    "# Export the DataFrame to an Excel workbook\n",
    "df_selected.to_csv(output_path, index=False, sep='\\t')\n",
    "\n",
    "print(\"success\")"
   ]
  },
  {
   "cell_type": "code",
   "execution_count": null,
   "id": "c266bbae-4065-43d8-9ff1-2cfafd4a3603",
   "metadata": {},
   "outputs": [],
   "source": []
  }
 ],
 "metadata": {
  "kernelspec": {
   "display_name": "Python 3 (ipykernel)",
   "language": "python",
   "name": "python3"
  },
  "language_info": {
   "codemirror_mode": {
    "name": "ipython",
    "version": 3
   },
   "file_extension": ".py",
   "mimetype": "text/x-python",
   "name": "python",
   "nbconvert_exporter": "python",
   "pygments_lexer": "ipython3",
   "version": "3.11.7"
  }
 },
 "nbformat": 4,
 "nbformat_minor": 5
}
