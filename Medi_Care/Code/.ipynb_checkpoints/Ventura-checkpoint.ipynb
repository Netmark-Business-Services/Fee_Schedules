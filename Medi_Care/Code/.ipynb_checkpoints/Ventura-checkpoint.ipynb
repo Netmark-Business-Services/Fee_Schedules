{
 "cells": [
  {
   "cell_type": "code",
   "execution_count": 1,
   "id": "96078f6d-3a37-4e91-868c-63e8e0573256",
   "metadata": {},
   "outputs": [
    {
     "name": "stdout",
     "output_type": "stream",
     "text": [
      "code executed succesfully\n"
     ]
    },
    {
     "name": "stderr",
     "output_type": "stream",
     "text": [
      "C:\\Users\\skrishnan\\AppData\\Local\\Temp\\ipykernel_19852\\2151204144.py:37: SettingWithCopyWarning: \n",
      "A value is trying to be set on a copy of a slice from a DataFrame\n",
      "\n",
      "See the caveats in the documentation: https://pandas.pydata.org/pandas-docs/stable/user_guide/indexing.html#returning-a-view-versus-a-copy\n",
      "  df_op.drop(['Note'], axis=1, inplace=True)\n"
     ]
    },
    {
     "data": {
      "text/html": [
       "<div>\n",
       "<style scoped>\n",
       "    .dataframe tbody tr th:only-of-type {\n",
       "        vertical-align: middle;\n",
       "    }\n",
       "\n",
       "    .dataframe tbody tr th {\n",
       "        vertical-align: top;\n",
       "    }\n",
       "\n",
       "    .dataframe thead th {\n",
       "        text-align: right;\n",
       "    }\n",
       "</style>\n",
       "<table border=\"1\" class=\"dataframe\">\n",
       "  <thead>\n",
       "    <tr style=\"text-align: right;\">\n",
       "      <th></th>\n",
       "      <th>SVC_CD</th>\n",
       "      <th>Modifier_1</th>\n",
       "      <th>FEE</th>\n",
       "      <th>ASOFDATE</th>\n",
       "    </tr>\n",
       "  </thead>\n",
       "  <tbody>\n",
       "  </tbody>\n",
       "</table>\n",
       "</div>"
      ],
      "text/plain": [
       "Empty DataFrame\n",
       "Columns: [SVC_CD, Modifier_1, FEE, ASOFDATE]\n",
       "Index: []"
      ]
     },
     "metadata": {},
     "output_type": "display_data"
    },
    {
     "data": {
      "text/html": [
       "<div>\n",
       "<style scoped>\n",
       "    .dataframe tbody tr th:only-of-type {\n",
       "        vertical-align: middle;\n",
       "    }\n",
       "\n",
       "    .dataframe tbody tr th {\n",
       "        vertical-align: top;\n",
       "    }\n",
       "\n",
       "    .dataframe thead th {\n",
       "        text-align: right;\n",
       "    }\n",
       "</style>\n",
       "<table border=\"1\" class=\"dataframe\">\n",
       "  <thead>\n",
       "    <tr style=\"text-align: right;\">\n",
       "      <th></th>\n",
       "      <th>SVC_CD</th>\n",
       "      <th>Modifier_1</th>\n",
       "      <th>FEE</th>\n",
       "      <th>ASOFDATE</th>\n",
       "    </tr>\n",
       "  </thead>\n",
       "  <tbody>\n",
       "    <tr>\n",
       "      <th>0</th>\n",
       "      <td>G9037</td>\n",
       "      <td>NaN</td>\n",
       "      <td>43.57</td>\n",
       "      <td>20241001</td>\n",
       "    </tr>\n",
       "    <tr>\n",
       "      <th>1</th>\n",
       "      <td>G9038</td>\n",
       "      <td>NaN</td>\n",
       "      <td>54.30</td>\n",
       "      <td>20241001</td>\n",
       "    </tr>\n",
       "  </tbody>\n",
       "</table>\n",
       "</div>"
      ],
      "text/plain": [
       "  SVC_CD  Modifier_1    FEE  ASOFDATE\n",
       "0  G9037         NaN  43.57  20241001\n",
       "1  G9038         NaN  54.30  20241001"
      ]
     },
     "metadata": {},
     "output_type": "display_data"
    }
   ],
   "source": [
    "import pandas as pd\n",
    "import os\n",
    "# Area 17 - Venutra county\n",
    "# Rename the input file to Ventura MM.DD.YYYY\n",
    "\n",
    "#read files\n",
    "file_path = \"../Input_Files/Ventura 01.01.2025.xlsx\"\n",
    "df = pd.read_excel(file_path, skiprows=8)\n",
    "df.columns = ['Note', 'SVC_CD', 'Modifier_1', 'FEE','Non_Par_Fee', 'Limiting_Charge_Fee']\n",
    "\n",
    "#Drop the last two columns \n",
    "df.drop(['Non_Par_Fee', 'Limiting_Charge_Fee'], axis=1, inplace=True)\n",
    "\n",
    "#Split the date\n",
    "date_part = file_path.split(\" \")[-1].split(\".\")  \n",
    "split_date = '-'.join(date_part[0:3])\n",
    "month, day, year = split_date.split('-')\n",
    "if len(year) == 2:\n",
    "    year = '20' + year\n",
    "date = f'{year}{month}{day}'\n",
    "date1=f'{year}-{month}-{day}'\n",
    "\n",
    "# Create a directory named after the date if it doesn't exist\n",
    "if not os.path.exists(f'../Output_Files/{year}/{date}'):\n",
    "    os.makedirs(f'../Output_Files/{year}/{date}')    \n",
    "\n",
    "#Fill 'Note' Column with ab in place in NaN and add 'ASOFDATE'\n",
    "df['Note'] = df['Note'].fillna('ab')\n",
    "df['ASOFDATE'] = date\n",
    "\n",
    "# Create two new dataframes based on the condition\n",
    "df_normal = df[df['Note'].str.contains('ab')]\n",
    "df_op = df[~df['Note'].str.contains('ab')]\n",
    "\n",
    "#Drop the 'Note' Column\n",
    "df_normal.drop(['Note'], axis=1, inplace=True)\n",
    "df_op.drop(['Note'], axis=1, inplace=True)\n",
    "\n",
    "\n",
    "df_normal.to_csv(f'../Output_Files/{year}/{date}/MCare_Ven.{date1}.txt', sep='|', index=False)\n",
    "df_op.to_csv(f'../Output_Files/{year}/{date}/MCare_Ven_OP.{date1}.txt', sep='|', index=False)\n",
    "   \n",
    "#final_df_a.shape\n",
    "print(\"code executed succesfully\")\n",
    "display(df_op)\n",
    "display(df_normal)"
   ]
  },
  {
   "cell_type": "code",
   "execution_count": null,
   "id": "b22f3abe-305c-41b2-b71a-751162d37b4e",
   "metadata": {},
   "outputs": [],
   "source": []
  },
  {
   "cell_type": "code",
   "execution_count": null,
   "id": "1a1c6a4b-a9cc-4c4d-9ecb-80a4a1bcd938",
   "metadata": {},
   "outputs": [],
   "source": []
  },
  {
   "cell_type": "code",
   "execution_count": null,
   "id": "7f997642-1268-4401-9250-1d527076f2ef",
   "metadata": {},
   "outputs": [],
   "source": []
  }
 ],
 "metadata": {
  "kernelspec": {
   "display_name": "Python 3 (ipykernel)",
   "language": "python",
   "name": "python3"
  },
  "language_info": {
   "codemirror_mode": {
    "name": "ipython",
    "version": 3
   },
   "file_extension": ".py",
   "mimetype": "text/x-python",
   "name": "python",
   "nbconvert_exporter": "python",
   "pygments_lexer": "ipython3",
   "version": "3.11.7"
  }
 },
 "nbformat": 4,
 "nbformat_minor": 5
}
