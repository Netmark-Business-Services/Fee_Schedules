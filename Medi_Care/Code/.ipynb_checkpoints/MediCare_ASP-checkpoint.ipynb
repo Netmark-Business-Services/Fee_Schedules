{
 "cells": [
  {
   "cell_type": "code",
   "execution_count": 1,
   "id": "0d699db8",
   "metadata": {},
   "outputs": [
    {
     "name": "stdout",
     "output_type": "stream",
     "text": [
      "output executed successfully\n"
     ]
    }
   ],
   "source": [
    "#This library is required to read Excel files with .xls extension, Install it using pip install xlrd\n",
    "import xlrd\n",
    "# Import the necessary libraries\n",
    "import pandas as pd\n",
    "import zipfile\n",
    "import re\n",
    "import json\n",
    "\n",
    "# Load the configuration from the JSON file\n",
    "with open('config.json') as config_file:\n",
    "    config = json.load(config_file)\n",
    "\n",
    "# Extract values from the configuration\n",
    "asp_zip_path = config['asp_zip_path']\n",
    "asp_excel_file = config['asp_excel_file']\n",
    "asp_output_path_template = config['asp_output_path_template']\n",
    "\n",
    "# Open the ZIP file in read mode\n",
    "with zipfile.ZipFile(asp_zip_path, 'r') as z:\n",
    "    # Open the specific Excel file within the ZIP file\n",
    "    with z.open(asp_excel_file) as f:\n",
    "        # Read the Excel file into a pandas DataFrame, skipping the first 8 rows\n",
    "        df = pd.read_excel(f, skiprows=8)\n",
    "\n",
    "\n",
    "# Select only the relevant columns\n",
    "df_extracted = df[['HCPCS Code', 'Payment Limit']]\n",
    "\n",
    "#Rename the column names\n",
    "df_extracted = df_extracted.rename(columns={\n",
    "    'HCPCS Code': 'SVC_CD',\n",
    "    'Payment Limit': 'FEE'\n",
    "})\n",
    "\n",
    "\n",
    "# Add the additional required columns with default values as they are not present in the file\n",
    "df_extracted['MODIFIER_1'] = ''\n",
    "df_extracted['MODIFIER_2'] = ''\n",
    "df_extracted['MODIFIER_3'] = ''\n",
    "df_extracted['MODIFIER_4'] = ''\n",
    "df_extracted['AS_OF_DATE'] = ''\n",
    "df_extracted['AGE_UNIT'] = ''\n",
    "df_extracted['FROM_AGE'] = ''\n",
    "df_extracted['THROUGH_AGE'] = ''\n",
    "df_extracted['PLACE_OF_SERVICE_CODE'] = ''\n",
    "\n",
    "# Reorder the columns to match the required format\n",
    "df_extracted = df_extracted[['SVC_CD', 'MODIFIER_1', 'MODIFIER_2', 'MODIFIER_3', 'MODIFIER_4', 'FEE', 'AS_OF_DATE', 'AGE_UNIT', 'FROM_AGE', 'THROUGH_AGE', 'PLACE_OF_SERVICE_CODE']]\n",
    "\n",
    "# Define the regular expression pattern to match a date in the format 'DDMMYY'\n",
    "date_pattern = r\"\\b\\d{6}\\b\"\n",
    "\n",
    "# Search for the date pattern in the file path\n",
    "match = re.search(date_pattern, asp_excel_file)\n",
    "    \n",
    "# Extract and format the date if found\n",
    "extracted_date = match.group()\n",
    "formatted_date = f\"20{extracted_date[-2:]}-{extracted_date[-4:-2]}-{extracted_date[:-4]}\"\n",
    "\n",
    "# Save the extracted data to a new Excel file\n",
    "output_file_path=asp_output_path_template.format(date=formatted_date)\n",
    "df_extracted.to_csv(output_file_path, index=False, sep='|')\n",
    "print (\"output executed successfully\")"
   ]
  },
  {
   "cell_type": "code",
   "execution_count": null,
   "id": "2df2a69f-74d0-4730-aec2-5d4223153042",
   "metadata": {},
   "outputs": [],
   "source": []
  }
 ],
 "metadata": {
  "kernelspec": {
   "display_name": "Python 3 (ipykernel)",
   "language": "python",
   "name": "python3"
  },
  "language_info": {
   "codemirror_mode": {
    "name": "ipython",
    "version": 3
   },
   "file_extension": ".py",
   "mimetype": "text/x-python",
   "name": "python",
   "nbconvert_exporter": "python",
   "pygments_lexer": "ipython3",
   "version": "3.11.7"
  }
 },
 "nbformat": 4,
 "nbformat_minor": 5
}
